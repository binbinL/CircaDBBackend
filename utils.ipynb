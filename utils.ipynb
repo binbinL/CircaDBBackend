{
 "cells": [
  {
   "cell_type": "code",
   "execution_count": 1,
   "id": "initial_id",
   "metadata": {
    "collapsed": true,
    "ExecuteTime": {
     "end_time": "2024-08-24T07:38:55.023803100Z",
     "start_time": "2024-08-24T07:38:51.510327200Z"
    }
   },
   "outputs": [],
   "source": [
    "import os\n",
    "import pandas as pd\n",
    "import h5py"
   ]
  },
  {
   "cell_type": "code",
   "execution_count": 4,
   "outputs": [
    {
     "data": {
      "text/plain": "['C:\\\\Users\\\\15423\\\\OneDrive\\\\GSE\\\\Mus\\\\GSE216416\\\\GSE216416_meta.csv',\n 'C:\\\\Users\\\\15423\\\\OneDrive\\\\GSE\\\\Homo\\\\GSE220120\\\\GSE220120_meta.csv']"
     },
     "execution_count": 4,
     "metadata": {},
     "output_type": "execute_result"
    }
   ],
   "source": [
    "# get gsetable\n",
    "path1 = 'C:\\\\Users\\\\15423\\\\OneDrive\\\\GSE\\\\Mus'\n",
    "path2 = 'C:\\\\Users\\\\15423\\\\OneDrive\\\\GSE\\\\Homo'\n",
    "file_list = []\n",
    "# 遍历目录及所有子目录下的文件\n",
    "for root, dirs, files in os.walk(path1):\n",
    "    for filename in files:\n",
    "        if filename.endswith('_meta.csv'):\n",
    "            file_path = os.path.join(root, filename)\n",
    "            file_list.append(file_path)\n",
    "for root, dirs, files in os.walk(path2):\n",
    "    for filename in files:\n",
    "        if filename.endswith('_meta.csv'):\n",
    "            file_path = os.path.join(root, filename)\n",
    "            file_list.append(file_path)\n",
    "file_list"
   ],
   "metadata": {
    "collapsed": false,
    "ExecuteTime": {
     "end_time": "2024-08-24T07:46:17.897633100Z",
     "start_time": "2024-08-24T07:46:17.866632400Z"
    }
   },
   "id": "9c99df85285db8f9"
  },
  {
   "cell_type": "code",
   "execution_count": 5,
   "outputs": [
    {
     "data": {
      "text/plain": "  gse_accession                                        study_title\n0     GSE216416  Sexual Dimorphism of Circadian Liver Transcrip...\n1     GSE220120  Conservation of primordial ~12-hour ultradian ...",
      "text/html": "<div>\n<style scoped>\n    .dataframe tbody tr th:only-of-type {\n        vertical-align: middle;\n    }\n\n    .dataframe tbody tr th {\n        vertical-align: top;\n    }\n\n    .dataframe thead th {\n        text-align: right;\n    }\n</style>\n<table border=\"1\" class=\"dataframe\">\n  <thead>\n    <tr style=\"text-align: right;\">\n      <th></th>\n      <th>gse_accession</th>\n      <th>study_title</th>\n    </tr>\n  </thead>\n  <tbody>\n    <tr>\n      <th>0</th>\n      <td>GSE216416</td>\n      <td>Sexual Dimorphism of Circadian Liver Transcrip...</td>\n    </tr>\n    <tr>\n      <th>1</th>\n      <td>GSE220120</td>\n      <td>Conservation of primordial ~12-hour ultradian ...</td>\n    </tr>\n  </tbody>\n</table>\n</div>"
     },
     "execution_count": 5,
     "metadata": {},
     "output_type": "execute_result"
    }
   ],
   "source": [
    "mg_df = pd.DataFrame()\n",
    "for i in file_list:\n",
    "    df_tmp = pd.read_csv(i).loc[:, ['gse_accession', 'study_title']]\n",
    "    df_tmp_drop = df_tmp.drop_duplicates()\n",
    "    mg_df = pd.concat([mg_df, df_tmp_drop], ignore_index=True)\n",
    "mg_df"
   ],
   "metadata": {
    "collapsed": false,
    "ExecuteTime": {
     "end_time": "2024-08-24T07:46:24.858744100Z",
     "start_time": "2024-08-24T07:46:24.812747400Z"
    }
   },
   "id": "8e196eae4fb0e4d0"
  },
  {
   "cell_type": "code",
   "execution_count": 6,
   "outputs": [],
   "source": [
    "# save\n",
    "mg_df.to_csv('C:\\\\Users\\\\15423\\\\OneDrive\\\\GSE\\\\database\\\\gse_table.csv', index=False)"
   ],
   "metadata": {
    "collapsed": false,
    "ExecuteTime": {
     "end_time": "2024-08-24T07:47:01.728827800Z",
     "start_time": "2024-08-24T07:47:01.669823500Z"
    }
   },
   "id": "cb6357033aa01c10"
  },
  {
   "cell_type": "code",
   "execution_count": null,
   "outputs": [],
   "source": [
    "# make summary\n"
   ],
   "metadata": {
    "collapsed": false
   },
   "id": "118c0ea1e4eb757e"
  },
  {
   "cell_type": "code",
   "execution_count": 29,
   "outputs": [],
   "source": [
    "# make DetailValue csv\n",
    "type = 'Mus'\n",
    "path = f'C:\\\\Users\\\\15423\\\\OneDrive\\\\GSE\\\\{type}'\n",
    "df = pd.read_csv(os.path.join(path, f'summary_{type}.csv'))"
   ],
   "metadata": {
    "collapsed": false,
    "ExecuteTime": {
     "end_time": "2024-08-24T08:23:40.899862700Z",
     "start_time": "2024-08-24T08:23:40.849869100Z"
    }
   },
   "id": "a2828f03608039ff"
  },
  {
   "cell_type": "code",
   "execution_count": 30,
   "outputs": [
    {
     "data": {
      "text/plain": "     GEO_Accession               Condition Tissue          Omics  \\\n0        GSE216416          AdLibitum_diet  Liver  Transcriptome   \n1        GSE216416          AdLibitum_diet  Liver  Transcriptome   \n2        GSE216416          AdLibitum_diet  Liver  Transcriptome   \n3        GSE216416          AdLibitum_diet  Liver  Transcriptome   \n4        GSE216416          AdLibitum_diet  Liver  Transcriptome   \n...            ...                     ...    ...            ...   \n5794     GSE216416  CalorieRestricted_diet  Liver  Transcriptome   \n5795     GSE216416  CalorieRestricted_diet  Liver  Transcriptome   \n5796     GSE216416  CalorieRestricted_diet  Liver  Transcriptome   \n5797     GSE216416  CalorieRestricted_diet  Liver  Transcriptome   \n5798     GSE216416  CalorieRestricted_diet  Liver  Transcriptome   \n\n             genes        amp      phase   peakTime       basal    pvalue  \\\n0           Fignl2   1.300034   7.105679  22.894321    5.031099  0.033616   \n1          Anapc15   1.283745  12.812486  17.187514    3.485729  0.029933   \n2           Tcerg1   0.840155  13.263103  16.736897    3.195360  0.011556   \n3            Fyco1   3.355437   8.221691  21.778309   10.563173  0.048704   \n4            Ppil4   1.669701  12.857205  17.142795    7.197752  0.039591   \n...            ...        ...        ...        ...         ...       ...   \n5794  LOC105244034   0.470218   6.924963  23.075037    1.343394  0.000459   \n5795       Zfp36l2  13.057424  18.030750  11.969250   38.563369  0.026377   \n5796       Gm10130   0.365435   8.673544  21.326456    0.920132  0.039686   \n5797       Gm42517   0.054766  12.293212  17.706788    0.038599  0.030838   \n5798         Paqr9  63.012480   7.398355  22.601645  119.148265  0.000604   \n\n            R2  \n0     0.384105  \n1     0.394230  \n2     0.471238  \n3     0.350605  \n4     0.369542  \n...        ...  \n5794  0.641148  \n5795  0.384118  \n5796  0.349643  \n5797  0.371153  \n5798  0.627765  \n\n[5799 rows x 11 columns]",
      "text/html": "<div>\n<style scoped>\n    .dataframe tbody tr th:only-of-type {\n        vertical-align: middle;\n    }\n\n    .dataframe tbody tr th {\n        vertical-align: top;\n    }\n\n    .dataframe thead th {\n        text-align: right;\n    }\n</style>\n<table border=\"1\" class=\"dataframe\">\n  <thead>\n    <tr style=\"text-align: right;\">\n      <th></th>\n      <th>GEO_Accession</th>\n      <th>Condition</th>\n      <th>Tissue</th>\n      <th>Omics</th>\n      <th>genes</th>\n      <th>amp</th>\n      <th>phase</th>\n      <th>peakTime</th>\n      <th>basal</th>\n      <th>pvalue</th>\n      <th>R2</th>\n    </tr>\n  </thead>\n  <tbody>\n    <tr>\n      <th>0</th>\n      <td>GSE216416</td>\n      <td>AdLibitum_diet</td>\n      <td>Liver</td>\n      <td>Transcriptome</td>\n      <td>Fignl2</td>\n      <td>1.300034</td>\n      <td>7.105679</td>\n      <td>22.894321</td>\n      <td>5.031099</td>\n      <td>0.033616</td>\n      <td>0.384105</td>\n    </tr>\n    <tr>\n      <th>1</th>\n      <td>GSE216416</td>\n      <td>AdLibitum_diet</td>\n      <td>Liver</td>\n      <td>Transcriptome</td>\n      <td>Anapc15</td>\n      <td>1.283745</td>\n      <td>12.812486</td>\n      <td>17.187514</td>\n      <td>3.485729</td>\n      <td>0.029933</td>\n      <td>0.394230</td>\n    </tr>\n    <tr>\n      <th>2</th>\n      <td>GSE216416</td>\n      <td>AdLibitum_diet</td>\n      <td>Liver</td>\n      <td>Transcriptome</td>\n      <td>Tcerg1</td>\n      <td>0.840155</td>\n      <td>13.263103</td>\n      <td>16.736897</td>\n      <td>3.195360</td>\n      <td>0.011556</td>\n      <td>0.471238</td>\n    </tr>\n    <tr>\n      <th>3</th>\n      <td>GSE216416</td>\n      <td>AdLibitum_diet</td>\n      <td>Liver</td>\n      <td>Transcriptome</td>\n      <td>Fyco1</td>\n      <td>3.355437</td>\n      <td>8.221691</td>\n      <td>21.778309</td>\n      <td>10.563173</td>\n      <td>0.048704</td>\n      <td>0.350605</td>\n    </tr>\n    <tr>\n      <th>4</th>\n      <td>GSE216416</td>\n      <td>AdLibitum_diet</td>\n      <td>Liver</td>\n      <td>Transcriptome</td>\n      <td>Ppil4</td>\n      <td>1.669701</td>\n      <td>12.857205</td>\n      <td>17.142795</td>\n      <td>7.197752</td>\n      <td>0.039591</td>\n      <td>0.369542</td>\n    </tr>\n    <tr>\n      <th>...</th>\n      <td>...</td>\n      <td>...</td>\n      <td>...</td>\n      <td>...</td>\n      <td>...</td>\n      <td>...</td>\n      <td>...</td>\n      <td>...</td>\n      <td>...</td>\n      <td>...</td>\n      <td>...</td>\n    </tr>\n    <tr>\n      <th>5794</th>\n      <td>GSE216416</td>\n      <td>CalorieRestricted_diet</td>\n      <td>Liver</td>\n      <td>Transcriptome</td>\n      <td>LOC105244034</td>\n      <td>0.470218</td>\n      <td>6.924963</td>\n      <td>23.075037</td>\n      <td>1.343394</td>\n      <td>0.000459</td>\n      <td>0.641148</td>\n    </tr>\n    <tr>\n      <th>5795</th>\n      <td>GSE216416</td>\n      <td>CalorieRestricted_diet</td>\n      <td>Liver</td>\n      <td>Transcriptome</td>\n      <td>Zfp36l2</td>\n      <td>13.057424</td>\n      <td>18.030750</td>\n      <td>11.969250</td>\n      <td>38.563369</td>\n      <td>0.026377</td>\n      <td>0.384118</td>\n    </tr>\n    <tr>\n      <th>5796</th>\n      <td>GSE216416</td>\n      <td>CalorieRestricted_diet</td>\n      <td>Liver</td>\n      <td>Transcriptome</td>\n      <td>Gm10130</td>\n      <td>0.365435</td>\n      <td>8.673544</td>\n      <td>21.326456</td>\n      <td>0.920132</td>\n      <td>0.039686</td>\n      <td>0.349643</td>\n    </tr>\n    <tr>\n      <th>5797</th>\n      <td>GSE216416</td>\n      <td>CalorieRestricted_diet</td>\n      <td>Liver</td>\n      <td>Transcriptome</td>\n      <td>Gm42517</td>\n      <td>0.054766</td>\n      <td>12.293212</td>\n      <td>17.706788</td>\n      <td>0.038599</td>\n      <td>0.030838</td>\n      <td>0.371153</td>\n    </tr>\n    <tr>\n      <th>5798</th>\n      <td>GSE216416</td>\n      <td>CalorieRestricted_diet</td>\n      <td>Liver</td>\n      <td>Transcriptome</td>\n      <td>Paqr9</td>\n      <td>63.012480</td>\n      <td>7.398355</td>\n      <td>22.601645</td>\n      <td>119.148265</td>\n      <td>0.000604</td>\n      <td>0.627765</td>\n    </tr>\n  </tbody>\n</table>\n<p>5799 rows × 11 columns</p>\n</div>"
     },
     "execution_count": 30,
     "metadata": {},
     "output_type": "execute_result"
    }
   ],
   "source": [
    "df"
   ],
   "metadata": {
    "collapsed": false,
    "ExecuteTime": {
     "end_time": "2024-08-24T08:23:42.927559200Z",
     "start_time": "2024-08-24T08:23:42.881552200Z"
    }
   },
   "id": "2d317490db36861f"
  },
  {
   "cell_type": "code",
   "execution_count": 22,
   "outputs": [
    {
     "data": {
      "text/plain": "  gse_accession                                        study_title\n0     GSE216416  Sexual Dimorphism of Circadian Liver Transcrip...\n1     GSE220120  Conservation of primordial ~12-hour ultradian ...",
      "text/html": "<div>\n<style scoped>\n    .dataframe tbody tr th:only-of-type {\n        vertical-align: middle;\n    }\n\n    .dataframe tbody tr th {\n        vertical-align: top;\n    }\n\n    .dataframe thead th {\n        text-align: right;\n    }\n</style>\n<table border=\"1\" class=\"dataframe\">\n  <thead>\n    <tr style=\"text-align: right;\">\n      <th></th>\n      <th>gse_accession</th>\n      <th>study_title</th>\n    </tr>\n  </thead>\n  <tbody>\n    <tr>\n      <th>0</th>\n      <td>GSE216416</td>\n      <td>Sexual Dimorphism of Circadian Liver Transcrip...</td>\n    </tr>\n    <tr>\n      <th>1</th>\n      <td>GSE220120</td>\n      <td>Conservation of primordial ~12-hour ultradian ...</td>\n    </tr>\n  </tbody>\n</table>\n</div>"
     },
     "execution_count": 22,
     "metadata": {},
     "output_type": "execute_result"
    }
   ],
   "source": [
    "gse_index = pd.read_csv('C:\\\\Users\\\\15423\\\\OneDrive\\\\GSE\\\\database\\\\gse_table.csv')\n",
    "gse_index"
   ],
   "metadata": {
    "collapsed": false,
    "ExecuteTime": {
     "end_time": "2024-08-24T08:17:06.432312900Z",
     "start_time": "2024-08-24T08:17:06.403313900Z"
    }
   },
   "id": "80118c3f44f9c965"
  },
  {
   "cell_type": "code",
   "execution_count": 31,
   "outputs": [
    {
     "data": {
      "text/plain": "      GEO_Accession               Condition Tissue          Omics  \\\n0                 1          AdLibitum_diet  Liver  Transcriptome   \n1                 1          AdLibitum_diet  Liver  Transcriptome   \n2                 1          AdLibitum_diet  Liver  Transcriptome   \n3                 1          AdLibitum_diet  Liver  Transcriptome   \n4                 1          AdLibitum_diet  Liver  Transcriptome   \n...             ...                     ...    ...            ...   \n5794              1  CalorieRestricted_diet  Liver  Transcriptome   \n5795              1  CalorieRestricted_diet  Liver  Transcriptome   \n5796              1  CalorieRestricted_diet  Liver  Transcriptome   \n5797              1  CalorieRestricted_diet  Liver  Transcriptome   \n5798              1  CalorieRestricted_diet  Liver  Transcriptome   \n\n             genes        amp      phase   peakTime       basal    pvalue  \\\n0           Fignl2   1.300034   7.105679  22.894321    5.031099  0.033616   \n1          Anapc15   1.283745  12.812486  17.187514    3.485729  0.029933   \n2           Tcerg1   0.840155  13.263103  16.736897    3.195360  0.011556   \n3            Fyco1   3.355437   8.221691  21.778309   10.563173  0.048704   \n4            Ppil4   1.669701  12.857205  17.142795    7.197752  0.039591   \n...            ...        ...        ...        ...         ...       ...   \n5794  LOC105244034   0.470218   6.924963  23.075037    1.343394  0.000459   \n5795       Zfp36l2  13.057424  18.030750  11.969250   38.563369  0.026377   \n5796       Gm10130   0.365435   8.673544  21.326456    0.920132  0.039686   \n5797       Gm42517   0.054766  12.293212  17.706788    0.038599  0.030838   \n5798         Paqr9  63.012480   7.398355  22.601645  119.148265  0.000604   \n\n            R2  \n0     0.384105  \n1     0.394230  \n2     0.471238  \n3     0.350605  \n4     0.369542  \n...        ...  \n5794  0.641148  \n5795  0.384118  \n5796  0.349643  \n5797  0.371153  \n5798  0.627765  \n\n[5799 rows x 11 columns]",
      "text/html": "<div>\n<style scoped>\n    .dataframe tbody tr th:only-of-type {\n        vertical-align: middle;\n    }\n\n    .dataframe tbody tr th {\n        vertical-align: top;\n    }\n\n    .dataframe thead th {\n        text-align: right;\n    }\n</style>\n<table border=\"1\" class=\"dataframe\">\n  <thead>\n    <tr style=\"text-align: right;\">\n      <th></th>\n      <th>GEO_Accession</th>\n      <th>Condition</th>\n      <th>Tissue</th>\n      <th>Omics</th>\n      <th>genes</th>\n      <th>amp</th>\n      <th>phase</th>\n      <th>peakTime</th>\n      <th>basal</th>\n      <th>pvalue</th>\n      <th>R2</th>\n    </tr>\n  </thead>\n  <tbody>\n    <tr>\n      <th>0</th>\n      <td>1</td>\n      <td>AdLibitum_diet</td>\n      <td>Liver</td>\n      <td>Transcriptome</td>\n      <td>Fignl2</td>\n      <td>1.300034</td>\n      <td>7.105679</td>\n      <td>22.894321</td>\n      <td>5.031099</td>\n      <td>0.033616</td>\n      <td>0.384105</td>\n    </tr>\n    <tr>\n      <th>1</th>\n      <td>1</td>\n      <td>AdLibitum_diet</td>\n      <td>Liver</td>\n      <td>Transcriptome</td>\n      <td>Anapc15</td>\n      <td>1.283745</td>\n      <td>12.812486</td>\n      <td>17.187514</td>\n      <td>3.485729</td>\n      <td>0.029933</td>\n      <td>0.394230</td>\n    </tr>\n    <tr>\n      <th>2</th>\n      <td>1</td>\n      <td>AdLibitum_diet</td>\n      <td>Liver</td>\n      <td>Transcriptome</td>\n      <td>Tcerg1</td>\n      <td>0.840155</td>\n      <td>13.263103</td>\n      <td>16.736897</td>\n      <td>3.195360</td>\n      <td>0.011556</td>\n      <td>0.471238</td>\n    </tr>\n    <tr>\n      <th>3</th>\n      <td>1</td>\n      <td>AdLibitum_diet</td>\n      <td>Liver</td>\n      <td>Transcriptome</td>\n      <td>Fyco1</td>\n      <td>3.355437</td>\n      <td>8.221691</td>\n      <td>21.778309</td>\n      <td>10.563173</td>\n      <td>0.048704</td>\n      <td>0.350605</td>\n    </tr>\n    <tr>\n      <th>4</th>\n      <td>1</td>\n      <td>AdLibitum_diet</td>\n      <td>Liver</td>\n      <td>Transcriptome</td>\n      <td>Ppil4</td>\n      <td>1.669701</td>\n      <td>12.857205</td>\n      <td>17.142795</td>\n      <td>7.197752</td>\n      <td>0.039591</td>\n      <td>0.369542</td>\n    </tr>\n    <tr>\n      <th>...</th>\n      <td>...</td>\n      <td>...</td>\n      <td>...</td>\n      <td>...</td>\n      <td>...</td>\n      <td>...</td>\n      <td>...</td>\n      <td>...</td>\n      <td>...</td>\n      <td>...</td>\n      <td>...</td>\n    </tr>\n    <tr>\n      <th>5794</th>\n      <td>1</td>\n      <td>CalorieRestricted_diet</td>\n      <td>Liver</td>\n      <td>Transcriptome</td>\n      <td>LOC105244034</td>\n      <td>0.470218</td>\n      <td>6.924963</td>\n      <td>23.075037</td>\n      <td>1.343394</td>\n      <td>0.000459</td>\n      <td>0.641148</td>\n    </tr>\n    <tr>\n      <th>5795</th>\n      <td>1</td>\n      <td>CalorieRestricted_diet</td>\n      <td>Liver</td>\n      <td>Transcriptome</td>\n      <td>Zfp36l2</td>\n      <td>13.057424</td>\n      <td>18.030750</td>\n      <td>11.969250</td>\n      <td>38.563369</td>\n      <td>0.026377</td>\n      <td>0.384118</td>\n    </tr>\n    <tr>\n      <th>5796</th>\n      <td>1</td>\n      <td>CalorieRestricted_diet</td>\n      <td>Liver</td>\n      <td>Transcriptome</td>\n      <td>Gm10130</td>\n      <td>0.365435</td>\n      <td>8.673544</td>\n      <td>21.326456</td>\n      <td>0.920132</td>\n      <td>0.039686</td>\n      <td>0.349643</td>\n    </tr>\n    <tr>\n      <th>5797</th>\n      <td>1</td>\n      <td>CalorieRestricted_diet</td>\n      <td>Liver</td>\n      <td>Transcriptome</td>\n      <td>Gm42517</td>\n      <td>0.054766</td>\n      <td>12.293212</td>\n      <td>17.706788</td>\n      <td>0.038599</td>\n      <td>0.030838</td>\n      <td>0.371153</td>\n    </tr>\n    <tr>\n      <th>5798</th>\n      <td>1</td>\n      <td>CalorieRestricted_diet</td>\n      <td>Liver</td>\n      <td>Transcriptome</td>\n      <td>Paqr9</td>\n      <td>63.012480</td>\n      <td>7.398355</td>\n      <td>22.601645</td>\n      <td>119.148265</td>\n      <td>0.000604</td>\n      <td>0.627765</td>\n    </tr>\n  </tbody>\n</table>\n<p>5799 rows × 11 columns</p>\n</div>"
     },
     "execution_count": 31,
     "metadata": {},
     "output_type": "execute_result"
    }
   ],
   "source": [
    "gse_index['index'] = gse_index.index + 1\n",
    "mapping_dict = dict(zip(gse_index['gse_accession'], gse_index['index']))\n",
    "df['GEO_Accession'] = df['GEO_Accession'].map(mapping_dict)\n",
    "df"
   ],
   "metadata": {
    "collapsed": false,
    "ExecuteTime": {
     "end_time": "2024-08-24T08:23:54.863181300Z",
     "start_time": "2024-08-24T08:23:54.813947Z"
    }
   },
   "id": "211ef7028511a394"
  },
  {
   "cell_type": "code",
   "execution_count": 32,
   "outputs": [
    {
     "data": {
      "text/plain": "      GEO_Accession               Condition Tissue          Omics  genes  \\\n0                 1          AdLibitum_diet  Liver  Transcriptome      6   \n1                 1          AdLibitum_diet  Liver  Transcriptome      8   \n2                 1          AdLibitum_diet  Liver  Transcriptome     11   \n3                 1          AdLibitum_diet  Liver  Transcriptome     19   \n4                 1          AdLibitum_diet  Liver  Transcriptome     28   \n...             ...                     ...    ...            ...    ...   \n5794              1  CalorieRestricted_diet  Liver  Transcriptome  25207   \n5795              1  CalorieRestricted_diet  Liver  Transcriptome  25219   \n5796              1  CalorieRestricted_diet  Liver  Transcriptome  25230   \n5797              1  CalorieRestricted_diet  Liver  Transcriptome  25235   \n5798              1  CalorieRestricted_diet  Liver  Transcriptome  25237   \n\n            amp      phase   peakTime       basal    pvalue        R2  \n0      1.300034   7.105679  22.894321    5.031099  0.033616  0.384105  \n1      1.283745  12.812486  17.187514    3.485729  0.029933  0.394230  \n2      0.840155  13.263103  16.736897    3.195360  0.011556  0.471238  \n3      3.355437   8.221691  21.778309   10.563173  0.048704  0.350605  \n4      1.669701  12.857205  17.142795    7.197752  0.039591  0.369542  \n...         ...        ...        ...         ...       ...       ...  \n5794   0.470218   6.924963  23.075037    1.343394  0.000459  0.641148  \n5795  13.057424  18.030750  11.969250   38.563369  0.026377  0.384118  \n5796   0.365435   8.673544  21.326456    0.920132  0.039686  0.349643  \n5797   0.054766  12.293212  17.706788    0.038599  0.030838  0.371153  \n5798  63.012480   7.398355  22.601645  119.148265  0.000604  0.627765  \n\n[5799 rows x 11 columns]",
      "text/html": "<div>\n<style scoped>\n    .dataframe tbody tr th:only-of-type {\n        vertical-align: middle;\n    }\n\n    .dataframe tbody tr th {\n        vertical-align: top;\n    }\n\n    .dataframe thead th {\n        text-align: right;\n    }\n</style>\n<table border=\"1\" class=\"dataframe\">\n  <thead>\n    <tr style=\"text-align: right;\">\n      <th></th>\n      <th>GEO_Accession</th>\n      <th>Condition</th>\n      <th>Tissue</th>\n      <th>Omics</th>\n      <th>genes</th>\n      <th>amp</th>\n      <th>phase</th>\n      <th>peakTime</th>\n      <th>basal</th>\n      <th>pvalue</th>\n      <th>R2</th>\n    </tr>\n  </thead>\n  <tbody>\n    <tr>\n      <th>0</th>\n      <td>1</td>\n      <td>AdLibitum_diet</td>\n      <td>Liver</td>\n      <td>Transcriptome</td>\n      <td>6</td>\n      <td>1.300034</td>\n      <td>7.105679</td>\n      <td>22.894321</td>\n      <td>5.031099</td>\n      <td>0.033616</td>\n      <td>0.384105</td>\n    </tr>\n    <tr>\n      <th>1</th>\n      <td>1</td>\n      <td>AdLibitum_diet</td>\n      <td>Liver</td>\n      <td>Transcriptome</td>\n      <td>8</td>\n      <td>1.283745</td>\n      <td>12.812486</td>\n      <td>17.187514</td>\n      <td>3.485729</td>\n      <td>0.029933</td>\n      <td>0.394230</td>\n    </tr>\n    <tr>\n      <th>2</th>\n      <td>1</td>\n      <td>AdLibitum_diet</td>\n      <td>Liver</td>\n      <td>Transcriptome</td>\n      <td>11</td>\n      <td>0.840155</td>\n      <td>13.263103</td>\n      <td>16.736897</td>\n      <td>3.195360</td>\n      <td>0.011556</td>\n      <td>0.471238</td>\n    </tr>\n    <tr>\n      <th>3</th>\n      <td>1</td>\n      <td>AdLibitum_diet</td>\n      <td>Liver</td>\n      <td>Transcriptome</td>\n      <td>19</td>\n      <td>3.355437</td>\n      <td>8.221691</td>\n      <td>21.778309</td>\n      <td>10.563173</td>\n      <td>0.048704</td>\n      <td>0.350605</td>\n    </tr>\n    <tr>\n      <th>4</th>\n      <td>1</td>\n      <td>AdLibitum_diet</td>\n      <td>Liver</td>\n      <td>Transcriptome</td>\n      <td>28</td>\n      <td>1.669701</td>\n      <td>12.857205</td>\n      <td>17.142795</td>\n      <td>7.197752</td>\n      <td>0.039591</td>\n      <td>0.369542</td>\n    </tr>\n    <tr>\n      <th>...</th>\n      <td>...</td>\n      <td>...</td>\n      <td>...</td>\n      <td>...</td>\n      <td>...</td>\n      <td>...</td>\n      <td>...</td>\n      <td>...</td>\n      <td>...</td>\n      <td>...</td>\n      <td>...</td>\n    </tr>\n    <tr>\n      <th>5794</th>\n      <td>1</td>\n      <td>CalorieRestricted_diet</td>\n      <td>Liver</td>\n      <td>Transcriptome</td>\n      <td>25207</td>\n      <td>0.470218</td>\n      <td>6.924963</td>\n      <td>23.075037</td>\n      <td>1.343394</td>\n      <td>0.000459</td>\n      <td>0.641148</td>\n    </tr>\n    <tr>\n      <th>5795</th>\n      <td>1</td>\n      <td>CalorieRestricted_diet</td>\n      <td>Liver</td>\n      <td>Transcriptome</td>\n      <td>25219</td>\n      <td>13.057424</td>\n      <td>18.030750</td>\n      <td>11.969250</td>\n      <td>38.563369</td>\n      <td>0.026377</td>\n      <td>0.384118</td>\n    </tr>\n    <tr>\n      <th>5796</th>\n      <td>1</td>\n      <td>CalorieRestricted_diet</td>\n      <td>Liver</td>\n      <td>Transcriptome</td>\n      <td>25230</td>\n      <td>0.365435</td>\n      <td>8.673544</td>\n      <td>21.326456</td>\n      <td>0.920132</td>\n      <td>0.039686</td>\n      <td>0.349643</td>\n    </tr>\n    <tr>\n      <th>5797</th>\n      <td>1</td>\n      <td>CalorieRestricted_diet</td>\n      <td>Liver</td>\n      <td>Transcriptome</td>\n      <td>25235</td>\n      <td>0.054766</td>\n      <td>12.293212</td>\n      <td>17.706788</td>\n      <td>0.038599</td>\n      <td>0.030838</td>\n      <td>0.371153</td>\n    </tr>\n    <tr>\n      <th>5798</th>\n      <td>1</td>\n      <td>CalorieRestricted_diet</td>\n      <td>Liver</td>\n      <td>Transcriptome</td>\n      <td>25237</td>\n      <td>63.012480</td>\n      <td>7.398355</td>\n      <td>22.601645</td>\n      <td>119.148265</td>\n      <td>0.000604</td>\n      <td>0.627765</td>\n    </tr>\n  </tbody>\n</table>\n<p>5799 rows × 11 columns</p>\n</div>"
     },
     "execution_count": 32,
     "metadata": {},
     "output_type": "execute_result"
    }
   ],
   "source": [
    "gene_index = pd.read_csv('C:\\\\Users\\\\15423\\\\OneDrive\\\\GSE\\\\database\\\\GeneTable.csv')\n",
    "gene_index['index'] = gene_index.index + 1\n",
    "toUse = gene_index[gene_index['type']==type]\n",
    "mapping_dict = dict(zip(toUse['gene_name'], toUse['index']))\n",
    "df['genes'] = df['genes'].map(mapping_dict)\n",
    "df"
   ],
   "metadata": {
    "collapsed": false,
    "ExecuteTime": {
     "end_time": "2024-08-24T08:24:11.419994800Z",
     "start_time": "2024-08-24T08:24:11.290992400Z"
    }
   },
   "id": "2b7781934e6f9702"
  },
  {
   "cell_type": "code",
   "execution_count": 33,
   "outputs": [],
   "source": [
    "df.to_csv(f'C:\\\\Users\\\\15423\\\\OneDrive\\\\GSE\\\\database\\\\{type}Value.csv', index=False)"
   ],
   "metadata": {
    "collapsed": false,
    "ExecuteTime": {
     "end_time": "2024-08-24T08:24:46.628928800Z",
     "start_time": "2024-08-24T08:24:46.504922700Z"
    }
   },
   "id": "1093a77ee5bfc0e4"
  },
  {
   "cell_type": "code",
   "execution_count": 36,
   "outputs": [],
   "source": [
    "# make h5\n",
    "gse = 'GSE216416'\n",
    "path = f'C:\\\\Users\\\\15423\\\\OneDrive\\\\GSE\\\\Mus\\\\{gse}'\n",
    "# \n",
    "pd1 = pd.read_csv(os.path.join(path, \"AdLibitum_diet.csv\"))\n",
    "pd2 = pd.read_csv(os.path.join(path, \"CalorieRestricted_diet.csv\"))\n",
    "# pd3 = pd.read_csv(os.path.join(path, \"S3.csv\"))\n",
    "# pd4 = pd.read_csv(os.path.join(path, \"('MCD', 'suprachiasmatic nucleus').csv\"))"
   ],
   "metadata": {
    "collapsed": false,
    "ExecuteTime": {
     "end_time": "2024-08-24T08:36:39.083902600Z",
     "start_time": "2024-08-24T08:36:38.818858100Z"
    }
   },
   "id": "63aaa82b36057cfe"
  },
  {
   "cell_type": "code",
   "execution_count": 37,
   "outputs": [
    {
     "name": "stdout",
     "output_type": "stream",
     "text": [
      "done!\n"
     ]
    }
   ],
   "source": [
    "omics = 'trans'\n",
    "tissue = 'liver'\n",
    "#gse-omics-tissue-condition\n",
    "with h5py.File(os.path.join(path, 'fpkm.h5'), 'w') as f:\n",
    "    gse_group = f.create_group(gse)\n",
    "    omics_group = gse_group.create_group(omics)\n",
    "    tissue_group = omics_group.create_group('liver')\n",
    "    \n",
    "    condition_group = tissue_group.create_group('AdLibitum_diet')\n",
    "    condition_group.create_dataset('data', data=pd1.iloc[:, 1:].to_numpy())\n",
    "    condition_group.attrs['col'] = pd1.columns.to_list()[1:]\n",
    "    \n",
    "    condition_group = tissue_group.create_group('CalorieRestricted_diet')\n",
    "    condition_group.create_dataset('data', data=pd2.iloc[:, 1:].to_numpy())\n",
    "    condition_group.attrs['col'] = pd2.columns.to_list()[1:]\n",
    "    \n",
    "    # condition_group = tissue_group.create_group('HealthyS1=3')\n",
    "    # condition_group.create_dataset('data', data=pd3.iloc[:, 1:].to_numpy())\n",
    "    # condition_group.attrs['col'] = pd3.columns.to_list()[1:]\n",
    "\n",
    "    # condition_group = tissue_group.create_group('Bmal1iec-&-')\n",
    "    # condition_group.create_dataset('data', data=pd2.iloc[:, 1:].to_numpy())\n",
    "    # condition_group.attrs['col'] = pd2.columns.to_list()[1:]\n",
    "\n",
    "    # tissue_group = omics_group.create_group('DMS')\n",
    "    # condition_group = tissue_group.create_group('ctrl')\n",
    "    # condition_group.create_dataset('data', data=pd2.iloc[:, 1:].to_numpy())\n",
    "    # condition_group.attrs['col'] = pd2.columns.to_list()[1:]\n",
    "    # \n",
    "    # tissue_group = omics_group.create_group('NAc')\n",
    "    # condition_group = tissue_group.create_group('ctrl')\n",
    "    # condition_group.create_dataset('data', data=pd3.iloc[:, 1:].to_numpy())\n",
    "    # condition_group.attrs['col'] = pd3.columns.to_list()[1:]\n",
    "\n",
    "    print('done!')"
   ],
   "metadata": {
    "collapsed": false,
    "ExecuteTime": {
     "end_time": "2024-08-24T08:37:30.029694700Z",
     "start_time": "2024-08-24T08:37:29.979994700Z"
    }
   },
   "id": "11aaf6dc63c68a53"
  },
  {
   "cell_type": "code",
   "execution_count": 31,
   "outputs": [
    {
     "name": "stdout",
     "output_type": "stream",
     "text": [
      "GSE254949/trans/DLS/ctrl/data\n",
      "GSE254949/trans/DMS/ctrl/data\n",
      "GSE254949/trans/NAc/ctrl/data\n"
     ]
    }
   ],
   "source": [
    "full_path = []\n",
    "gse = 'GSE254949'\n",
    "path = f'C:\\\\Users\\\\15423\\\\OneDrive\\\\GSE\\\\done\\\\{gse}'\n",
    "\n",
    "def print_dataset_with_data(file):\n",
    "    def print_attrs(name, obj):\n",
    "        if isinstance(obj, h5py.Dataset) and name.endswith(\"data\"):\n",
    "            print(name)\n",
    "            full_path.append(name)\n",
    "\n",
    "    with h5py.File(file, 'r') as f:\n",
    "        f.visititems(print_attrs)\n",
    "\n",
    "\n",
    "print_dataset_with_data(os.path.join(path, 'fpkm.h5'))"
   ],
   "metadata": {
    "collapsed": false,
    "ExecuteTime": {
     "end_time": "2024-06-21T11:44:57.564825200Z",
     "start_time": "2024-06-21T11:44:57.538821Z"
    }
   },
   "id": "ae02a0f0947a0e4e"
  },
  {
   "cell_type": "code",
   "execution_count": 47,
   "outputs": [
    {
     "name": "stdout",
     "output_type": "stream",
     "text": [
      "GSE254949/trans/DLS/ctrl/data\n"
     ]
    }
   ],
   "source": [
    "# 读取HDF5文件中的数据集和属性\n",
    "with h5py.File(os.path.join(path, 'fpkm.h5'), 'r') as f:\n",
    "    print(full_path[0])\n",
    "    dset = f[full_path[0]]\n",
    "    x = dset[()]\n",
    "    y = f['/'.join(full_path[2].split('/')[0:-1])].attrs['col']\n",
    "    # print(pd.DataFrame(dset[()]))\n",
    "    # print(f['/'.join(full_path[2].split('/')[0:-1])].attrs['col'])"
   ],
   "metadata": {
    "collapsed": false,
    "ExecuteTime": {
     "end_time": "2024-06-21T11:51:33.635908Z",
     "start_time": "2024-06-21T11:51:33.597878100Z"
    }
   },
   "id": "248d64afc8a0cba7"
  },
  {
   "cell_type": "code",
   "execution_count": 45,
   "outputs": [
    {
     "name": "stdout",
     "output_type": "stream",
     "text": [
      "C:\\Users\\15423\\OneDrive\\GSE\\Homo\\GSE220120\\fpkm.h5 is doing\n",
      "GSE220120\n",
      "C:\\Users\\15423\\OneDrive\\GSE\\Mus\\GSE216416\\fpkm.h5 is doing\n",
      "GSE216416\n",
      "HDF5文件合并完成。\n"
     ]
    }
   ],
   "source": [
    "def find_fpkm_h5_files(directory):\n",
    "    fpkm_h5_files = []\n",
    "\n",
    "    for root, dirs, files in os.walk(directory):\n",
    "        for file in files:\n",
    "            if file.endswith(\"fpkm.h5\"):\n",
    "                fpkm_h5_files.append(os.path.join(root, file))\n",
    "\n",
    "    return fpkm_h5_files\n",
    "\n",
    "\n",
    "path = 'C:\\\\Users\\\\15423\\\\OneDrive\\\\GSE\\\\database'\n",
    "p1 = 'C:\\\\Users\\\\15423\\\\OneDrive\\\\GSE\\\\Homo'\n",
    "p2 = 'C:\\\\Users\\\\15423\\\\OneDrive\\\\GSE\\\\Mus'\n",
    "\n",
    "\n",
    "file_list=[]\n",
    "file_list.append(find_fpkm_h5_files(p1))\n",
    "file_list.append(find_fpkm_h5_files(p2))\n",
    "\n",
    "merged_file_path = os.path.join(path, 'merged.h5')\n",
    "\n",
    "with h5py.File(merged_file_path, 'w') as merged_file:\n",
    "    for file_path in file_list:\n",
    "        print(f'{file_path[0]} is doing')\n",
    "        with h5py.File(file_path[0], 'r') as f:\n",
    "            for key in f.keys():\n",
    "                print(key)\n",
    "                # 复制数据集到新文件中\n",
    "                f.copy(key, merged_file)\n",
    "\n",
    "print(\"HDF5文件合并完成。\")"
   ],
   "metadata": {
    "collapsed": false,
    "ExecuteTime": {
     "end_time": "2024-08-24T08:45:39.378723Z",
     "start_time": "2024-08-24T08:45:39.312722300Z"
    }
   },
   "id": "34b74dc322aacfdb"
  },
  {
   "cell_type": "code",
   "execution_count": 28,
   "outputs": [
    {
     "name": "stdout",
     "output_type": "stream",
     "text": [
      "GSE227755/trans/colon/Bmal1fl&fl/data\n",
      "GSE227755/trans/colon/Bmal1iec-&-/data\n",
      "GSE230078/trans/colon/Bmal1fl&fl/data\n",
      "GSE230078/trans/colon/Bmal1iec-&-/data\n",
      "GSE252364/trans/liver/MCD/data\n",
      "GSE252364/trans/liver/ctrl/data\n",
      "GSE252364/trans/suprachiasmatic nucleus/MCD/data\n",
      "GSE252364/trans/suprachiasmatic nucleus/ctrl/data\n",
      "GSE254949/trans/DLS/ctrl/data\n",
      "GSE254949/trans/DMS/ctrl/data\n",
      "GSE254949/trans/NAc/ctrl/data\n",
      "GSE255474/trans/skin/male/data\n"
     ]
    }
   ],
   "source": [
    "print_dataset_with_data(merged_file_path)"
   ],
   "metadata": {
    "collapsed": false,
    "ExecuteTime": {
     "end_time": "2024-06-21T10:42:22.651892100Z",
     "start_time": "2024-06-21T10:42:22.614284500Z"
    }
   },
   "id": "ba9ba9432916b1c8"
  },
  {
   "cell_type": "code",
   "execution_count": null,
   "outputs": [],
   "source": [],
   "metadata": {
    "collapsed": false
   },
   "id": "56ba70565e3c367e"
  }
 ],
 "metadata": {
  "kernelspec": {
   "display_name": "Python 3",
   "language": "python",
   "name": "python3"
  },
  "language_info": {
   "codemirror_mode": {
    "name": "ipython",
    "version": 2
   },
   "file_extension": ".py",
   "mimetype": "text/x-python",
   "name": "python",
   "nbconvert_exporter": "python",
   "pygments_lexer": "ipython2",
   "version": "2.7.6"
  }
 },
 "nbformat": 4,
 "nbformat_minor": 5
}
