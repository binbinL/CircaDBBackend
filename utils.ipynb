{
 "cells": [
  {
   "cell_type": "code",
   "execution_count": 1,
   "id": "initial_id",
   "metadata": {
    "collapsed": true,
    "ExecuteTime": {
     "end_time": "2024-06-20T12:41:30.885913300Z",
     "start_time": "2024-06-20T12:41:28.222663500Z"
    }
   },
   "outputs": [],
   "source": [
    "import os\n",
    "import pandas as pd\n",
    "import h5py"
   ]
  },
  {
   "cell_type": "code",
   "execution_count": 10,
   "outputs": [
    {
     "data": {
      "text/plain": "['C:\\\\Users\\\\15423\\\\OneDrive\\\\GSE\\\\done\\\\GSE227755\\\\GSE227755_meta.csv',\n 'C:\\\\Users\\\\15423\\\\OneDrive\\\\GSE\\\\done\\\\GSE230078\\\\GSE230078_meta.csv',\n 'C:\\\\Users\\\\15423\\\\OneDrive\\\\GSE\\\\done\\\\GSE252364\\\\GSE252364_meta.csv',\n 'C:\\\\Users\\\\15423\\\\OneDrive\\\\GSE\\\\done\\\\GSE254949\\\\GSE254949_meta.csv',\n 'C:\\\\Users\\\\15423\\\\OneDrive\\\\GSE\\\\done\\\\GSE255474\\\\GSE255474_meta.csv']"
     },
     "execution_count": 10,
     "metadata": {},
     "output_type": "execute_result"
    }
   ],
   "source": [
    "# get gsetable\n",
    "path = 'C:\\\\Users\\\\15423\\\\OneDrive\\\\GSE\\\\done'\n",
    "file_list = []\n",
    "# 遍历目录及所有子目录下的文件\n",
    "for root, dirs, files in os.walk(path):\n",
    "    for filename in files:\n",
    "        if filename.endswith('_meta.csv'):\n",
    "            file_path = os.path.join(root, filename)\n",
    "            file_list.append(file_path)\n",
    "file_list"
   ],
   "metadata": {
    "collapsed": false,
    "ExecuteTime": {
     "end_time": "2024-06-19T08:09:08.149095100Z",
     "start_time": "2024-06-19T08:09:08.121095200Z"
    }
   },
   "id": "9c99df85285db8f9"
  },
  {
   "cell_type": "code",
   "execution_count": 14,
   "outputs": [
    {
     "data": {
      "text/plain": "  gse_accession                                        study_title\n0     GSE227755            Effect of d-alanine on circadian rhythm\n1     GSE230078  Targeting the intestinal circadian clock by me...\n2     GSE252364  Effect of methionine/choline deficient diet on...\n3     GSE254949  Comparative rhythmic transcriptome profiling o...\n4     GSE255474  Characterisation of the epidermal diurnal tran...",
      "text/html": "<div>\n<style scoped>\n    .dataframe tbody tr th:only-of-type {\n        vertical-align: middle;\n    }\n\n    .dataframe tbody tr th {\n        vertical-align: top;\n    }\n\n    .dataframe thead th {\n        text-align: right;\n    }\n</style>\n<table border=\"1\" class=\"dataframe\">\n  <thead>\n    <tr style=\"text-align: right;\">\n      <th></th>\n      <th>gse_accession</th>\n      <th>study_title</th>\n    </tr>\n  </thead>\n  <tbody>\n    <tr>\n      <th>0</th>\n      <td>GSE227755</td>\n      <td>Effect of d-alanine on circadian rhythm</td>\n    </tr>\n    <tr>\n      <th>1</th>\n      <td>GSE230078</td>\n      <td>Targeting the intestinal circadian clock by me...</td>\n    </tr>\n    <tr>\n      <th>2</th>\n      <td>GSE252364</td>\n      <td>Effect of methionine/choline deficient diet on...</td>\n    </tr>\n    <tr>\n      <th>3</th>\n      <td>GSE254949</td>\n      <td>Comparative rhythmic transcriptome profiling o...</td>\n    </tr>\n    <tr>\n      <th>4</th>\n      <td>GSE255474</td>\n      <td>Characterisation of the epidermal diurnal tran...</td>\n    </tr>\n  </tbody>\n</table>\n</div>"
     },
     "execution_count": 14,
     "metadata": {},
     "output_type": "execute_result"
    }
   ],
   "source": [
    "mg_df = pd.DataFrame()\n",
    "for i in file_list:\n",
    "    df_tmp = pd.read_csv(i).loc[:, ['gse_accession', 'study_title']]\n",
    "    df_tmp_drop = df_tmp.drop_duplicates()\n",
    "    mg_df = pd.concat([mg_df, df_tmp_drop], ignore_index=True)\n",
    "mg_df"
   ],
   "metadata": {
    "collapsed": false,
    "ExecuteTime": {
     "end_time": "2024-06-19T08:14:32.344171800Z",
     "start_time": "2024-06-19T08:14:32.170171300Z"
    }
   },
   "id": "8e196eae4fb0e4d0"
  },
  {
   "cell_type": "code",
   "execution_count": 15,
   "outputs": [],
   "source": [
    "# save\n",
    "mg_df.to_csv('C:\\\\Users\\\\15423\\\\OneDrive\\\\GSE\\\\done\\\\gse_table.csv', index=False)"
   ],
   "metadata": {
    "collapsed": false,
    "ExecuteTime": {
     "end_time": "2024-06-19T08:15:23.760454100Z",
     "start_time": "2024-06-19T08:15:23.732459200Z"
    }
   },
   "id": "cb6357033aa01c10"
  },
  {
   "cell_type": "code",
   "execution_count": 17,
   "outputs": [],
   "source": [
    "# make jtk_value csv\n",
    "path = 'C:\\\\Users\\\\15423\\\\OneDrive\\\\GSE\\\\done'\n",
    "df = pd.read_csv(os.path.join(path, 'Summary.csv'))"
   ],
   "metadata": {
    "collapsed": false,
    "ExecuteTime": {
     "end_time": "2024-06-19T08:34:15.823245900Z",
     "start_time": "2024-06-19T08:34:15.729245800Z"
    }
   },
   "id": "a2828f03608039ff"
  },
  {
   "cell_type": "code",
   "execution_count": 18,
   "outputs": [
    {
     "data": {
      "text/plain": "             GSE   Condition  Tissue    Omics           Gene  JTK_pvalue  \\\n0      GSE230078  Bmal1fl&fl   Colon  RNA-Seq        Fam129c    0.018622   \n1      GSE230078  Bmal1fl&fl   Colon  RNA-Seq          Gfpt1    0.004348   \n2      GSE230078  Bmal1fl&fl   Colon  RNA-Seq        Cyp3a13    0.000023   \n3      GSE230078  Bmal1fl&fl   Colon  RNA-Seq         Cyp4b1    0.001714   \n4      GSE230078  Bmal1fl&fl   Colon  RNA-Seq          Dcakd    0.018622   \n...          ...         ...     ...      ...            ...         ...   \n22468  GSE227755     Vehicle  kidney  RNA-Seq  D630045J12Rik    0.012551   \n22469  GSE227755     Vehicle  kidney  RNA-Seq        Gm15270    0.001342   \n22470  GSE227755     Vehicle  kidney  RNA-Seq         Snhg11    0.012551   \n22471  GSE227755     Vehicle  kidney  RNA-Seq      Cox7c-ps1    0.004348   \n22472  GSE227755     Vehicle  kidney  RNA-Seq          Pinx1    0.003471   \n\n       JTK_BH.Q  JTK_period  JTK_adjphase  JTK_amplitude  meta2d_Base  \\\n0      0.090651          24          15.0       0.398735     1.337286   \n1      0.028961          24           5.0      49.753227   536.513867   \n2      0.000709          24           9.0      27.391420   124.255758   \n3      0.014341          24          17.0      25.682624    97.817349   \n4      0.090651          24          19.0       3.509599    24.883732   \n...         ...         ...           ...            ...          ...   \n22468  0.352935          20           8.0       2.930976    19.253288   \n22469  0.093686          24          18.0       3.665680     9.535379   \n22470  0.352935          24          12.0      30.386886   116.303714   \n22471  0.188054          24           6.0      21.964182   117.780829   \n22472  0.164804          20           0.0       1.782498    12.328164   \n\n       meta2d_AMP  meta2d_rAMP  \n0        0.514955     0.385075  \n1       19.957727     0.037199  \n2       23.650028     0.190333  \n3       43.677847     0.446525  \n4        2.271203     0.091273  \n...           ...          ...  \n22468    2.987131     0.155149  \n22469    2.821785     0.295928  \n22470   37.745696     0.324544  \n22471   22.081596     0.187480  \n22472    2.328993     0.188916  \n\n[22473 rows x 13 columns]",
      "text/html": "<div>\n<style scoped>\n    .dataframe tbody tr th:only-of-type {\n        vertical-align: middle;\n    }\n\n    .dataframe tbody tr th {\n        vertical-align: top;\n    }\n\n    .dataframe thead th {\n        text-align: right;\n    }\n</style>\n<table border=\"1\" class=\"dataframe\">\n  <thead>\n    <tr style=\"text-align: right;\">\n      <th></th>\n      <th>GSE</th>\n      <th>Condition</th>\n      <th>Tissue</th>\n      <th>Omics</th>\n      <th>Gene</th>\n      <th>JTK_pvalue</th>\n      <th>JTK_BH.Q</th>\n      <th>JTK_period</th>\n      <th>JTK_adjphase</th>\n      <th>JTK_amplitude</th>\n      <th>meta2d_Base</th>\n      <th>meta2d_AMP</th>\n      <th>meta2d_rAMP</th>\n    </tr>\n  </thead>\n  <tbody>\n    <tr>\n      <th>0</th>\n      <td>GSE230078</td>\n      <td>Bmal1fl&amp;fl</td>\n      <td>Colon</td>\n      <td>RNA-Seq</td>\n      <td>Fam129c</td>\n      <td>0.018622</td>\n      <td>0.090651</td>\n      <td>24</td>\n      <td>15.0</td>\n      <td>0.398735</td>\n      <td>1.337286</td>\n      <td>0.514955</td>\n      <td>0.385075</td>\n    </tr>\n    <tr>\n      <th>1</th>\n      <td>GSE230078</td>\n      <td>Bmal1fl&amp;fl</td>\n      <td>Colon</td>\n      <td>RNA-Seq</td>\n      <td>Gfpt1</td>\n      <td>0.004348</td>\n      <td>0.028961</td>\n      <td>24</td>\n      <td>5.0</td>\n      <td>49.753227</td>\n      <td>536.513867</td>\n      <td>19.957727</td>\n      <td>0.037199</td>\n    </tr>\n    <tr>\n      <th>2</th>\n      <td>GSE230078</td>\n      <td>Bmal1fl&amp;fl</td>\n      <td>Colon</td>\n      <td>RNA-Seq</td>\n      <td>Cyp3a13</td>\n      <td>0.000023</td>\n      <td>0.000709</td>\n      <td>24</td>\n      <td>9.0</td>\n      <td>27.391420</td>\n      <td>124.255758</td>\n      <td>23.650028</td>\n      <td>0.190333</td>\n    </tr>\n    <tr>\n      <th>3</th>\n      <td>GSE230078</td>\n      <td>Bmal1fl&amp;fl</td>\n      <td>Colon</td>\n      <td>RNA-Seq</td>\n      <td>Cyp4b1</td>\n      <td>0.001714</td>\n      <td>0.014341</td>\n      <td>24</td>\n      <td>17.0</td>\n      <td>25.682624</td>\n      <td>97.817349</td>\n      <td>43.677847</td>\n      <td>0.446525</td>\n    </tr>\n    <tr>\n      <th>4</th>\n      <td>GSE230078</td>\n      <td>Bmal1fl&amp;fl</td>\n      <td>Colon</td>\n      <td>RNA-Seq</td>\n      <td>Dcakd</td>\n      <td>0.018622</td>\n      <td>0.090651</td>\n      <td>24</td>\n      <td>19.0</td>\n      <td>3.509599</td>\n      <td>24.883732</td>\n      <td>2.271203</td>\n      <td>0.091273</td>\n    </tr>\n    <tr>\n      <th>...</th>\n      <td>...</td>\n      <td>...</td>\n      <td>...</td>\n      <td>...</td>\n      <td>...</td>\n      <td>...</td>\n      <td>...</td>\n      <td>...</td>\n      <td>...</td>\n      <td>...</td>\n      <td>...</td>\n      <td>...</td>\n      <td>...</td>\n    </tr>\n    <tr>\n      <th>22468</th>\n      <td>GSE227755</td>\n      <td>Vehicle</td>\n      <td>kidney</td>\n      <td>RNA-Seq</td>\n      <td>D630045J12Rik</td>\n      <td>0.012551</td>\n      <td>0.352935</td>\n      <td>20</td>\n      <td>8.0</td>\n      <td>2.930976</td>\n      <td>19.253288</td>\n      <td>2.987131</td>\n      <td>0.155149</td>\n    </tr>\n    <tr>\n      <th>22469</th>\n      <td>GSE227755</td>\n      <td>Vehicle</td>\n      <td>kidney</td>\n      <td>RNA-Seq</td>\n      <td>Gm15270</td>\n      <td>0.001342</td>\n      <td>0.093686</td>\n      <td>24</td>\n      <td>18.0</td>\n      <td>3.665680</td>\n      <td>9.535379</td>\n      <td>2.821785</td>\n      <td>0.295928</td>\n    </tr>\n    <tr>\n      <th>22470</th>\n      <td>GSE227755</td>\n      <td>Vehicle</td>\n      <td>kidney</td>\n      <td>RNA-Seq</td>\n      <td>Snhg11</td>\n      <td>0.012551</td>\n      <td>0.352935</td>\n      <td>24</td>\n      <td>12.0</td>\n      <td>30.386886</td>\n      <td>116.303714</td>\n      <td>37.745696</td>\n      <td>0.324544</td>\n    </tr>\n    <tr>\n      <th>22471</th>\n      <td>GSE227755</td>\n      <td>Vehicle</td>\n      <td>kidney</td>\n      <td>RNA-Seq</td>\n      <td>Cox7c-ps1</td>\n      <td>0.004348</td>\n      <td>0.188054</td>\n      <td>24</td>\n      <td>6.0</td>\n      <td>21.964182</td>\n      <td>117.780829</td>\n      <td>22.081596</td>\n      <td>0.187480</td>\n    </tr>\n    <tr>\n      <th>22472</th>\n      <td>GSE227755</td>\n      <td>Vehicle</td>\n      <td>kidney</td>\n      <td>RNA-Seq</td>\n      <td>Pinx1</td>\n      <td>0.003471</td>\n      <td>0.164804</td>\n      <td>20</td>\n      <td>0.0</td>\n      <td>1.782498</td>\n      <td>12.328164</td>\n      <td>2.328993</td>\n      <td>0.188916</td>\n    </tr>\n  </tbody>\n</table>\n<p>22473 rows × 13 columns</p>\n</div>"
     },
     "execution_count": 18,
     "metadata": {},
     "output_type": "execute_result"
    }
   ],
   "source": [
    "df"
   ],
   "metadata": {
    "collapsed": false,
    "ExecuteTime": {
     "end_time": "2024-06-19T08:34:19.190514600Z",
     "start_time": "2024-06-19T08:34:19.147483700Z"
    }
   },
   "id": "2d317490db36861f"
  },
  {
   "cell_type": "code",
   "execution_count": 19,
   "outputs": [
    {
     "data": {
      "text/plain": "  gse_accession                                        study_title\n0     GSE227755            Effect of d-alanine on circadian rhythm\n1     GSE230078  Targeting the intestinal circadian clock by me...\n2     GSE252364  Effect of methionine/choline deficient diet on...\n3     GSE254949  Comparative rhythmic transcriptome profiling o...\n4     GSE255474  Characterisation of the epidermal diurnal tran...",
      "text/html": "<div>\n<style scoped>\n    .dataframe tbody tr th:only-of-type {\n        vertical-align: middle;\n    }\n\n    .dataframe tbody tr th {\n        vertical-align: top;\n    }\n\n    .dataframe thead th {\n        text-align: right;\n    }\n</style>\n<table border=\"1\" class=\"dataframe\">\n  <thead>\n    <tr style=\"text-align: right;\">\n      <th></th>\n      <th>gse_accession</th>\n      <th>study_title</th>\n    </tr>\n  </thead>\n  <tbody>\n    <tr>\n      <th>0</th>\n      <td>GSE227755</td>\n      <td>Effect of d-alanine on circadian rhythm</td>\n    </tr>\n    <tr>\n      <th>1</th>\n      <td>GSE230078</td>\n      <td>Targeting the intestinal circadian clock by me...</td>\n    </tr>\n    <tr>\n      <th>2</th>\n      <td>GSE252364</td>\n      <td>Effect of methionine/choline deficient diet on...</td>\n    </tr>\n    <tr>\n      <th>3</th>\n      <td>GSE254949</td>\n      <td>Comparative rhythmic transcriptome profiling o...</td>\n    </tr>\n    <tr>\n      <th>4</th>\n      <td>GSE255474</td>\n      <td>Characterisation of the epidermal diurnal tran...</td>\n    </tr>\n  </tbody>\n</table>\n</div>"
     },
     "execution_count": 19,
     "metadata": {},
     "output_type": "execute_result"
    }
   ],
   "source": [
    "gse_index = pd.read_csv(os.path.join(path, 'gse_table.csv'))\n",
    "gse_index"
   ],
   "metadata": {
    "collapsed": false,
    "ExecuteTime": {
     "end_time": "2024-06-19T08:36:39.057510Z",
     "start_time": "2024-06-19T08:36:39.012505400Z"
    }
   },
   "id": "80118c3f44f9c965"
  },
  {
   "cell_type": "code",
   "execution_count": 20,
   "outputs": [
    {
     "data": {
      "text/plain": "       GSE   Condition  Tissue    Omics           Gene  JTK_pvalue  JTK_BH.Q  \\\n0        2  Bmal1fl&fl   Colon  RNA-Seq        Fam129c    0.018622  0.090651   \n1        2  Bmal1fl&fl   Colon  RNA-Seq          Gfpt1    0.004348  0.028961   \n2        2  Bmal1fl&fl   Colon  RNA-Seq        Cyp3a13    0.000023  0.000709   \n3        2  Bmal1fl&fl   Colon  RNA-Seq         Cyp4b1    0.001714  0.014341   \n4        2  Bmal1fl&fl   Colon  RNA-Seq          Dcakd    0.018622  0.090651   \n...    ...         ...     ...      ...            ...         ...       ...   \n22468    1     Vehicle  kidney  RNA-Seq  D630045J12Rik    0.012551  0.352935   \n22469    1     Vehicle  kidney  RNA-Seq        Gm15270    0.001342  0.093686   \n22470    1     Vehicle  kidney  RNA-Seq         Snhg11    0.012551  0.352935   \n22471    1     Vehicle  kidney  RNA-Seq      Cox7c-ps1    0.004348  0.188054   \n22472    1     Vehicle  kidney  RNA-Seq          Pinx1    0.003471  0.164804   \n\n       JTK_period  JTK_adjphase  JTK_amplitude  meta2d_Base  meta2d_AMP  \\\n0              24          15.0       0.398735     1.337286    0.514955   \n1              24           5.0      49.753227   536.513867   19.957727   \n2              24           9.0      27.391420   124.255758   23.650028   \n3              24          17.0      25.682624    97.817349   43.677847   \n4              24          19.0       3.509599    24.883732    2.271203   \n...           ...           ...            ...          ...         ...   \n22468          20           8.0       2.930976    19.253288    2.987131   \n22469          24          18.0       3.665680     9.535379    2.821785   \n22470          24          12.0      30.386886   116.303714   37.745696   \n22471          24           6.0      21.964182   117.780829   22.081596   \n22472          20           0.0       1.782498    12.328164    2.328993   \n\n       meta2d_rAMP  \n0         0.385075  \n1         0.037199  \n2         0.190333  \n3         0.446525  \n4         0.091273  \n...            ...  \n22468     0.155149  \n22469     0.295928  \n22470     0.324544  \n22471     0.187480  \n22472     0.188916  \n\n[22473 rows x 13 columns]",
      "text/html": "<div>\n<style scoped>\n    .dataframe tbody tr th:only-of-type {\n        vertical-align: middle;\n    }\n\n    .dataframe tbody tr th {\n        vertical-align: top;\n    }\n\n    .dataframe thead th {\n        text-align: right;\n    }\n</style>\n<table border=\"1\" class=\"dataframe\">\n  <thead>\n    <tr style=\"text-align: right;\">\n      <th></th>\n      <th>GSE</th>\n      <th>Condition</th>\n      <th>Tissue</th>\n      <th>Omics</th>\n      <th>Gene</th>\n      <th>JTK_pvalue</th>\n      <th>JTK_BH.Q</th>\n      <th>JTK_period</th>\n      <th>JTK_adjphase</th>\n      <th>JTK_amplitude</th>\n      <th>meta2d_Base</th>\n      <th>meta2d_AMP</th>\n      <th>meta2d_rAMP</th>\n    </tr>\n  </thead>\n  <tbody>\n    <tr>\n      <th>0</th>\n      <td>2</td>\n      <td>Bmal1fl&amp;fl</td>\n      <td>Colon</td>\n      <td>RNA-Seq</td>\n      <td>Fam129c</td>\n      <td>0.018622</td>\n      <td>0.090651</td>\n      <td>24</td>\n      <td>15.0</td>\n      <td>0.398735</td>\n      <td>1.337286</td>\n      <td>0.514955</td>\n      <td>0.385075</td>\n    </tr>\n    <tr>\n      <th>1</th>\n      <td>2</td>\n      <td>Bmal1fl&amp;fl</td>\n      <td>Colon</td>\n      <td>RNA-Seq</td>\n      <td>Gfpt1</td>\n      <td>0.004348</td>\n      <td>0.028961</td>\n      <td>24</td>\n      <td>5.0</td>\n      <td>49.753227</td>\n      <td>536.513867</td>\n      <td>19.957727</td>\n      <td>0.037199</td>\n    </tr>\n    <tr>\n      <th>2</th>\n      <td>2</td>\n      <td>Bmal1fl&amp;fl</td>\n      <td>Colon</td>\n      <td>RNA-Seq</td>\n      <td>Cyp3a13</td>\n      <td>0.000023</td>\n      <td>0.000709</td>\n      <td>24</td>\n      <td>9.0</td>\n      <td>27.391420</td>\n      <td>124.255758</td>\n      <td>23.650028</td>\n      <td>0.190333</td>\n    </tr>\n    <tr>\n      <th>3</th>\n      <td>2</td>\n      <td>Bmal1fl&amp;fl</td>\n      <td>Colon</td>\n      <td>RNA-Seq</td>\n      <td>Cyp4b1</td>\n      <td>0.001714</td>\n      <td>0.014341</td>\n      <td>24</td>\n      <td>17.0</td>\n      <td>25.682624</td>\n      <td>97.817349</td>\n      <td>43.677847</td>\n      <td>0.446525</td>\n    </tr>\n    <tr>\n      <th>4</th>\n      <td>2</td>\n      <td>Bmal1fl&amp;fl</td>\n      <td>Colon</td>\n      <td>RNA-Seq</td>\n      <td>Dcakd</td>\n      <td>0.018622</td>\n      <td>0.090651</td>\n      <td>24</td>\n      <td>19.0</td>\n      <td>3.509599</td>\n      <td>24.883732</td>\n      <td>2.271203</td>\n      <td>0.091273</td>\n    </tr>\n    <tr>\n      <th>...</th>\n      <td>...</td>\n      <td>...</td>\n      <td>...</td>\n      <td>...</td>\n      <td>...</td>\n      <td>...</td>\n      <td>...</td>\n      <td>...</td>\n      <td>...</td>\n      <td>...</td>\n      <td>...</td>\n      <td>...</td>\n      <td>...</td>\n    </tr>\n    <tr>\n      <th>22468</th>\n      <td>1</td>\n      <td>Vehicle</td>\n      <td>kidney</td>\n      <td>RNA-Seq</td>\n      <td>D630045J12Rik</td>\n      <td>0.012551</td>\n      <td>0.352935</td>\n      <td>20</td>\n      <td>8.0</td>\n      <td>2.930976</td>\n      <td>19.253288</td>\n      <td>2.987131</td>\n      <td>0.155149</td>\n    </tr>\n    <tr>\n      <th>22469</th>\n      <td>1</td>\n      <td>Vehicle</td>\n      <td>kidney</td>\n      <td>RNA-Seq</td>\n      <td>Gm15270</td>\n      <td>0.001342</td>\n      <td>0.093686</td>\n      <td>24</td>\n      <td>18.0</td>\n      <td>3.665680</td>\n      <td>9.535379</td>\n      <td>2.821785</td>\n      <td>0.295928</td>\n    </tr>\n    <tr>\n      <th>22470</th>\n      <td>1</td>\n      <td>Vehicle</td>\n      <td>kidney</td>\n      <td>RNA-Seq</td>\n      <td>Snhg11</td>\n      <td>0.012551</td>\n      <td>0.352935</td>\n      <td>24</td>\n      <td>12.0</td>\n      <td>30.386886</td>\n      <td>116.303714</td>\n      <td>37.745696</td>\n      <td>0.324544</td>\n    </tr>\n    <tr>\n      <th>22471</th>\n      <td>1</td>\n      <td>Vehicle</td>\n      <td>kidney</td>\n      <td>RNA-Seq</td>\n      <td>Cox7c-ps1</td>\n      <td>0.004348</td>\n      <td>0.188054</td>\n      <td>24</td>\n      <td>6.0</td>\n      <td>21.964182</td>\n      <td>117.780829</td>\n      <td>22.081596</td>\n      <td>0.187480</td>\n    </tr>\n    <tr>\n      <th>22472</th>\n      <td>1</td>\n      <td>Vehicle</td>\n      <td>kidney</td>\n      <td>RNA-Seq</td>\n      <td>Pinx1</td>\n      <td>0.003471</td>\n      <td>0.164804</td>\n      <td>20</td>\n      <td>0.0</td>\n      <td>1.782498</td>\n      <td>12.328164</td>\n      <td>2.328993</td>\n      <td>0.188916</td>\n    </tr>\n  </tbody>\n</table>\n<p>22473 rows × 13 columns</p>\n</div>"
     },
     "execution_count": 20,
     "metadata": {},
     "output_type": "execute_result"
    }
   ],
   "source": [
    "gse_index['index'] = gse_index.index + 1\n",
    "mapping_dict = dict(zip(gse_index['gse_accession'], gse_index['index']))\n",
    "df['GSE'] = df['GSE'].map(mapping_dict)\n",
    "df"
   ],
   "metadata": {
    "collapsed": false,
    "ExecuteTime": {
     "end_time": "2024-06-19T08:41:30.295279500Z",
     "start_time": "2024-06-19T08:41:30.254278600Z"
    }
   },
   "id": "211ef7028511a394"
  },
  {
   "cell_type": "code",
   "execution_count": 21,
   "outputs": [
    {
     "data": {
      "text/plain": "       GSE   Condition  Tissue    Omics   Gene  JTK_pvalue  JTK_BH.Q  \\\n0        2  Bmal1fl&fl   Colon  RNA-Seq      6    0.018622  0.090651   \n1        2  Bmal1fl&fl   Colon  RNA-Seq     18    0.004348  0.028961   \n2        2  Bmal1fl&fl   Colon  RNA-Seq     23    0.000023  0.000709   \n3        2  Bmal1fl&fl   Colon  RNA-Seq     24    0.001714  0.014341   \n4        2  Bmal1fl&fl   Colon  RNA-Seq     32    0.018622  0.090651   \n...    ...         ...     ...      ...    ...         ...       ...   \n22468    1     Vehicle  kidney  RNA-Seq  16244    0.012551  0.352935   \n22469    1     Vehicle  kidney  RNA-Seq  16274    0.001342  0.093686   \n22470    1     Vehicle  kidney  RNA-Seq  16299    0.012551  0.352935   \n22471    1     Vehicle  kidney  RNA-Seq  16388    0.004348  0.188054   \n22472    1     Vehicle  kidney  RNA-Seq  16400    0.003471  0.164804   \n\n       JTK_period  JTK_adjphase  JTK_amplitude  meta2d_Base  meta2d_AMP  \\\n0              24          15.0       0.398735     1.337286    0.514955   \n1              24           5.0      49.753227   536.513867   19.957727   \n2              24           9.0      27.391420   124.255758   23.650028   \n3              24          17.0      25.682624    97.817349   43.677847   \n4              24          19.0       3.509599    24.883732    2.271203   \n...           ...           ...            ...          ...         ...   \n22468          20           8.0       2.930976    19.253288    2.987131   \n22469          24          18.0       3.665680     9.535379    2.821785   \n22470          24          12.0      30.386886   116.303714   37.745696   \n22471          24           6.0      21.964182   117.780829   22.081596   \n22472          20           0.0       1.782498    12.328164    2.328993   \n\n       meta2d_rAMP  \n0         0.385075  \n1         0.037199  \n2         0.190333  \n3         0.446525  \n4         0.091273  \n...            ...  \n22468     0.155149  \n22469     0.295928  \n22470     0.324544  \n22471     0.187480  \n22472     0.188916  \n\n[22473 rows x 13 columns]",
      "text/html": "<div>\n<style scoped>\n    .dataframe tbody tr th:only-of-type {\n        vertical-align: middle;\n    }\n\n    .dataframe tbody tr th {\n        vertical-align: top;\n    }\n\n    .dataframe thead th {\n        text-align: right;\n    }\n</style>\n<table border=\"1\" class=\"dataframe\">\n  <thead>\n    <tr style=\"text-align: right;\">\n      <th></th>\n      <th>GSE</th>\n      <th>Condition</th>\n      <th>Tissue</th>\n      <th>Omics</th>\n      <th>Gene</th>\n      <th>JTK_pvalue</th>\n      <th>JTK_BH.Q</th>\n      <th>JTK_period</th>\n      <th>JTK_adjphase</th>\n      <th>JTK_amplitude</th>\n      <th>meta2d_Base</th>\n      <th>meta2d_AMP</th>\n      <th>meta2d_rAMP</th>\n    </tr>\n  </thead>\n  <tbody>\n    <tr>\n      <th>0</th>\n      <td>2</td>\n      <td>Bmal1fl&amp;fl</td>\n      <td>Colon</td>\n      <td>RNA-Seq</td>\n      <td>6</td>\n      <td>0.018622</td>\n      <td>0.090651</td>\n      <td>24</td>\n      <td>15.0</td>\n      <td>0.398735</td>\n      <td>1.337286</td>\n      <td>0.514955</td>\n      <td>0.385075</td>\n    </tr>\n    <tr>\n      <th>1</th>\n      <td>2</td>\n      <td>Bmal1fl&amp;fl</td>\n      <td>Colon</td>\n      <td>RNA-Seq</td>\n      <td>18</td>\n      <td>0.004348</td>\n      <td>0.028961</td>\n      <td>24</td>\n      <td>5.0</td>\n      <td>49.753227</td>\n      <td>536.513867</td>\n      <td>19.957727</td>\n      <td>0.037199</td>\n    </tr>\n    <tr>\n      <th>2</th>\n      <td>2</td>\n      <td>Bmal1fl&amp;fl</td>\n      <td>Colon</td>\n      <td>RNA-Seq</td>\n      <td>23</td>\n      <td>0.000023</td>\n      <td>0.000709</td>\n      <td>24</td>\n      <td>9.0</td>\n      <td>27.391420</td>\n      <td>124.255758</td>\n      <td>23.650028</td>\n      <td>0.190333</td>\n    </tr>\n    <tr>\n      <th>3</th>\n      <td>2</td>\n      <td>Bmal1fl&amp;fl</td>\n      <td>Colon</td>\n      <td>RNA-Seq</td>\n      <td>24</td>\n      <td>0.001714</td>\n      <td>0.014341</td>\n      <td>24</td>\n      <td>17.0</td>\n      <td>25.682624</td>\n      <td>97.817349</td>\n      <td>43.677847</td>\n      <td>0.446525</td>\n    </tr>\n    <tr>\n      <th>4</th>\n      <td>2</td>\n      <td>Bmal1fl&amp;fl</td>\n      <td>Colon</td>\n      <td>RNA-Seq</td>\n      <td>32</td>\n      <td>0.018622</td>\n      <td>0.090651</td>\n      <td>24</td>\n      <td>19.0</td>\n      <td>3.509599</td>\n      <td>24.883732</td>\n      <td>2.271203</td>\n      <td>0.091273</td>\n    </tr>\n    <tr>\n      <th>...</th>\n      <td>...</td>\n      <td>...</td>\n      <td>...</td>\n      <td>...</td>\n      <td>...</td>\n      <td>...</td>\n      <td>...</td>\n      <td>...</td>\n      <td>...</td>\n      <td>...</td>\n      <td>...</td>\n      <td>...</td>\n      <td>...</td>\n    </tr>\n    <tr>\n      <th>22468</th>\n      <td>1</td>\n      <td>Vehicle</td>\n      <td>kidney</td>\n      <td>RNA-Seq</td>\n      <td>16244</td>\n      <td>0.012551</td>\n      <td>0.352935</td>\n      <td>20</td>\n      <td>8.0</td>\n      <td>2.930976</td>\n      <td>19.253288</td>\n      <td>2.987131</td>\n      <td>0.155149</td>\n    </tr>\n    <tr>\n      <th>22469</th>\n      <td>1</td>\n      <td>Vehicle</td>\n      <td>kidney</td>\n      <td>RNA-Seq</td>\n      <td>16274</td>\n      <td>0.001342</td>\n      <td>0.093686</td>\n      <td>24</td>\n      <td>18.0</td>\n      <td>3.665680</td>\n      <td>9.535379</td>\n      <td>2.821785</td>\n      <td>0.295928</td>\n    </tr>\n    <tr>\n      <th>22470</th>\n      <td>1</td>\n      <td>Vehicle</td>\n      <td>kidney</td>\n      <td>RNA-Seq</td>\n      <td>16299</td>\n      <td>0.012551</td>\n      <td>0.352935</td>\n      <td>24</td>\n      <td>12.0</td>\n      <td>30.386886</td>\n      <td>116.303714</td>\n      <td>37.745696</td>\n      <td>0.324544</td>\n    </tr>\n    <tr>\n      <th>22471</th>\n      <td>1</td>\n      <td>Vehicle</td>\n      <td>kidney</td>\n      <td>RNA-Seq</td>\n      <td>16388</td>\n      <td>0.004348</td>\n      <td>0.188054</td>\n      <td>24</td>\n      <td>6.0</td>\n      <td>21.964182</td>\n      <td>117.780829</td>\n      <td>22.081596</td>\n      <td>0.187480</td>\n    </tr>\n    <tr>\n      <th>22472</th>\n      <td>1</td>\n      <td>Vehicle</td>\n      <td>kidney</td>\n      <td>RNA-Seq</td>\n      <td>16400</td>\n      <td>0.003471</td>\n      <td>0.164804</td>\n      <td>20</td>\n      <td>0.0</td>\n      <td>1.782498</td>\n      <td>12.328164</td>\n      <td>2.328993</td>\n      <td>0.188916</td>\n    </tr>\n  </tbody>\n</table>\n<p>22473 rows × 13 columns</p>\n</div>"
     },
     "execution_count": 21,
     "metadata": {},
     "output_type": "execute_result"
    }
   ],
   "source": [
    "gene_index = pd.read_csv(os.path.join(path, 'gene.csv'))\n",
    "gene_index['index'] = gene_index.index + 1\n",
    "mapping_dict = dict(zip(gene_index['gene_name'], gene_index['index']))\n",
    "df['Gene'] = df['Gene'].map(mapping_dict)\n",
    "df"
   ],
   "metadata": {
    "collapsed": false,
    "ExecuteTime": {
     "end_time": "2024-06-19T08:43:42.306878900Z",
     "start_time": "2024-06-19T08:43:42.219876700Z"
    }
   },
   "id": "2b7781934e6f9702"
  },
  {
   "cell_type": "code",
   "execution_count": 22,
   "outputs": [],
   "source": [
    "df.to_csv('C:\\\\Users\\\\15423\\\\OneDrive\\\\GSE\\\\done\\\\jtk_value.csv', index=False)"
   ],
   "metadata": {
    "collapsed": false,
    "ExecuteTime": {
     "end_time": "2024-06-19T08:45:06.763918200Z",
     "start_time": "2024-06-19T08:45:06.433886900Z"
    }
   },
   "id": "1093a77ee5bfc0e4"
  },
  {
   "cell_type": "code",
   "execution_count": 25,
   "outputs": [],
   "source": [
    "# make h5\n",
    "gse = 'GSE254949'\n",
    "path = f'C:\\\\Users\\\\15423\\\\OneDrive\\\\GSE\\\\done\\\\{gse}'\n",
    "# \n",
    "pd1 = pd.read_csv(os.path.join(path, \"DLS.csv\"))\n",
    "pd2 = pd.read_csv(os.path.join(path, \"DMS.csv\"))\n",
    "pd3 = pd.read_csv(os.path.join(path, \"NAc.csv\"))\n",
    "# pd4 = pd.read_csv(os.path.join(path, \"('MCD', 'suprachiasmatic nucleus').csv\"))"
   ],
   "metadata": {
    "collapsed": false,
    "ExecuteTime": {
     "end_time": "2024-06-21T09:31:32.766836500Z",
     "start_time": "2024-06-21T09:31:31.793600800Z"
    }
   },
   "id": "63aaa82b36057cfe"
  },
  {
   "cell_type": "code",
   "execution_count": 26,
   "outputs": [
    {
     "name": "stdout",
     "output_type": "stream",
     "text": [
      "done!\n"
     ]
    }
   ],
   "source": [
    "omics = 'trans'\n",
    "tissue = 'ctrl'\n",
    "with h5py.File(os.path.join(path, 'fpkm.h5'), 'w') as f:\n",
    "    gse_group = f.create_group(gse)\n",
    "    omics_group = gse_group.create_group(omics)\n",
    "    tissue_group = omics_group.create_group('DLS')\n",
    "    condition_group = tissue_group.create_group('ctrl')\n",
    "    condition_group.create_dataset('data', data=pd1.iloc[:, 1:].to_numpy())\n",
    "    condition_group.attrs['col'] = pd1.columns.to_list()[1:]\n",
    "\n",
    "    # condition_group = tissue_group.create_group('Bmal1iec-&-')\n",
    "    # condition_group.create_dataset('data', data=pd2.iloc[:, 1:].to_numpy())\n",
    "    # condition_group.attrs['col'] = pd2.columns.to_list()[1:]\n",
    "\n",
    "    tissue_group = omics_group.create_group('DMS')\n",
    "    condition_group = tissue_group.create_group('ctrl')\n",
    "    condition_group.create_dataset('data', data=pd2.iloc[:, 1:].to_numpy())\n",
    "    condition_group.attrs['col'] = pd2.columns.to_list()[1:]\n",
    "\n",
    "    tissue_group = omics_group.create_group('NAc')\n",
    "    condition_group = tissue_group.create_group('ctrl')\n",
    "    condition_group.create_dataset('data', data=pd3.iloc[:, 1:].to_numpy())\n",
    "    condition_group.attrs['col'] = pd3.columns.to_list()[1:]\n",
    "\n",
    "    print('done!')"
   ],
   "metadata": {
    "collapsed": false,
    "ExecuteTime": {
     "end_time": "2024-06-21T10:42:03.237597600Z",
     "start_time": "2024-06-21T10:42:03.166569800Z"
    }
   },
   "id": "11aaf6dc63c68a53"
  },
  {
   "cell_type": "code",
   "execution_count": 31,
   "outputs": [
    {
     "name": "stdout",
     "output_type": "stream",
     "text": [
      "GSE254949/trans/DLS/ctrl/data\n",
      "GSE254949/trans/DMS/ctrl/data\n",
      "GSE254949/trans/NAc/ctrl/data\n"
     ]
    }
   ],
   "source": [
    "full_path = []\n",
    "gse = 'GSE254949'\n",
    "path = f'C:\\\\Users\\\\15423\\\\OneDrive\\\\GSE\\\\done\\\\{gse}'\n",
    "\n",
    "\n",
    "def print_dataset_with_data(file):\n",
    "    def print_attrs(name, obj):\n",
    "        if isinstance(obj, h5py.Dataset) and name.endswith(\"data\"):\n",
    "            print(name)\n",
    "            full_path.append(name)\n",
    "\n",
    "    with h5py.File(file, 'r') as f:\n",
    "        f.visititems(print_attrs)\n",
    "\n",
    "\n",
    "print_dataset_with_data(os.path.join(path, 'fpkm.h5'))"
   ],
   "metadata": {
    "collapsed": false,
    "ExecuteTime": {
     "end_time": "2024-06-21T11:44:57.564825200Z",
     "start_time": "2024-06-21T11:44:57.538821Z"
    }
   },
   "id": "ae02a0f0947a0e4e"
  },
  {
   "cell_type": "code",
   "execution_count": 47,
   "outputs": [
    {
     "name": "stdout",
     "output_type": "stream",
     "text": [
      "GSE254949/trans/DLS/ctrl/data\n"
     ]
    }
   ],
   "source": [
    "# 读取HDF5文件中的数据集和属性\n",
    "with h5py.File(os.path.join(path, 'fpkm.h5'), 'r') as f:\n",
    "    print(full_path[0])\n",
    "    dset = f[full_path[0]]\n",
    "    x = dset[()]\n",
    "    y = f['/'.join(full_path[2].split('/')[0:-1])].attrs['col']\n",
    "    # print(pd.DataFrame(dset[()]))\n",
    "    # print(f['/'.join(full_path[2].split('/')[0:-1])].attrs['col'])"
   ],
   "metadata": {
    "collapsed": false,
    "ExecuteTime": {
     "end_time": "2024-06-21T11:51:33.635908Z",
     "start_time": "2024-06-21T11:51:33.597878100Z"
    }
   },
   "id": "248d64afc8a0cba7"
  },
  {
   "cell_type": "code",
   "execution_count": 27,
   "outputs": [
    {
     "name": "stdout",
     "output_type": "stream",
     "text": [
      "C:\\Users\\15423\\OneDrive\\GSE\\done\\GSE227755\\fpkm.h5 is doing\n",
      "GSE227755\n",
      "C:\\Users\\15423\\OneDrive\\GSE\\done\\GSE230078\\fpkm.h5 is doing\n",
      "GSE230078\n",
      "C:\\Users\\15423\\OneDrive\\GSE\\done\\GSE252364\\fpkm.h5 is doing\n",
      "GSE252364\n",
      "C:\\Users\\15423\\OneDrive\\GSE\\done\\GSE254949\\fpkm.h5 is doing\n",
      "GSE254949\n",
      "C:\\Users\\15423\\OneDrive\\GSE\\done\\GSE255474\\fpkm.h5 is doing\n",
      "GSE255474\n",
      "HDF5文件合并完成。\n"
     ]
    }
   ],
   "source": [
    "def find_fpkm_h5_files(directory):\n",
    "    fpkm_h5_files = []\n",
    "\n",
    "    for root, dirs, files in os.walk(directory):\n",
    "        for file in files:\n",
    "            if file.endswith(\"fpkm.h5\"):\n",
    "                fpkm_h5_files.append(os.path.join(root, file))\n",
    "\n",
    "    return fpkm_h5_files\n",
    "\n",
    "\n",
    "path = 'C:\\\\Users\\\\15423\\\\OneDrive\\\\GSE\\\\done'\n",
    "\n",
    "file_list = find_fpkm_h5_files(path)\n",
    "merged_file_path = os.path.join(path, 'merged.h5')\n",
    "\n",
    "with h5py.File(merged_file_path, 'w') as merged_file:\n",
    "    for file_path in file_list:\n",
    "        print(f'{file_path} is doing')\n",
    "        with h5py.File(file_path, 'r') as f:\n",
    "            for key in f.keys():\n",
    "                print(key)\n",
    "                # 复制数据集到新文件中\n",
    "                f.copy(key, merged_file)\n",
    "\n",
    "print(\"HDF5文件合并完成。\")"
   ],
   "metadata": {
    "collapsed": false,
    "ExecuteTime": {
     "end_time": "2024-06-21T10:42:17.133033100Z",
     "start_time": "2024-06-21T10:42:17.016883Z"
    }
   },
   "id": "34b74dc322aacfdb"
  },
  {
   "cell_type": "code",
   "execution_count": 28,
   "outputs": [
    {
     "name": "stdout",
     "output_type": "stream",
     "text": [
      "GSE227755/trans/colon/Bmal1fl&fl/data\n",
      "GSE227755/trans/colon/Bmal1iec-&-/data\n",
      "GSE230078/trans/colon/Bmal1fl&fl/data\n",
      "GSE230078/trans/colon/Bmal1iec-&-/data\n",
      "GSE252364/trans/liver/MCD/data\n",
      "GSE252364/trans/liver/ctrl/data\n",
      "GSE252364/trans/suprachiasmatic nucleus/MCD/data\n",
      "GSE252364/trans/suprachiasmatic nucleus/ctrl/data\n",
      "GSE254949/trans/DLS/ctrl/data\n",
      "GSE254949/trans/DMS/ctrl/data\n",
      "GSE254949/trans/NAc/ctrl/data\n",
      "GSE255474/trans/skin/male/data\n"
     ]
    }
   ],
   "source": [
    "print_dataset_with_data(merged_file_path)"
   ],
   "metadata": {
    "collapsed": false,
    "ExecuteTime": {
     "end_time": "2024-06-21T10:42:22.651892100Z",
     "start_time": "2024-06-21T10:42:22.614284500Z"
    }
   },
   "id": "ba9ba9432916b1c8"
  },
  {
   "cell_type": "code",
   "execution_count": null,
   "outputs": [],
   "source": [],
   "metadata": {
    "collapsed": false
   },
   "id": "56ba70565e3c367e"
  }
 ],
 "metadata": {
  "kernelspec": {
   "display_name": "Python 3",
   "language": "python",
   "name": "python3"
  },
  "language_info": {
   "codemirror_mode": {
    "name": "ipython",
    "version": 2
   },
   "file_extension": ".py",
   "mimetype": "text/x-python",
   "name": "python",
   "nbconvert_exporter": "python",
   "pygments_lexer": "ipython2",
   "version": "2.7.6"
  }
 },
 "nbformat": 4,
 "nbformat_minor": 5
}
